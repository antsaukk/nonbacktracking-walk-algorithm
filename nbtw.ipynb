{
 "cells": [
  {
   "cell_type": "code",
   "execution_count": 1,
   "metadata": {},
   "outputs": [],
   "source": [
    "import numpy as np"
   ]
  },
  {
   "cell_type": "code",
   "execution_count": 2,
   "metadata": {},
   "outputs": [],
   "source": [
    "def identity(A):\n",
    "    return np.identity(A.shape[0])"
   ]
  },
  {
   "cell_type": "code",
   "execution_count": 3,
   "metadata": {},
   "outputs": [],
   "source": [
    "def delta(A):\n",
    "    d = np.sum(A, axis=1)\n",
    "    delta = identity(A)\n",
    "    delta[np.diag_indices_from(delta)] = d\n",
    "    return delta"
   ]
  },
  {
   "cell_type": "code",
   "execution_count": 4,
   "metadata": {},
   "outputs": [],
   "source": [
    "def recursive(A, k):\n",
    "    assert(k >= 3)\n",
    "    p1 = nbtw(A, 2)\n",
    "    p2 = nbtw(A, 1)\n",
    "    Id = identity(A) - delta(A)\n",
    "    for _ in range(3, k):\n",
    "        pr = np.dot(A, p1) + np.dot(Id, p2)\n",
    "        p2 = p1\n",
    "        p1 = pr\n",
    "    return p1"
   ]
  },
  {
   "cell_type": "code",
   "execution_count": 5,
   "metadata": {},
   "outputs": [],
   "source": [
    "def nbtw(A, k):\n",
    "    if k==1:\n",
    "        return A\n",
    "    elif k==2:\n",
    "        return np.dot(A, A) - delta(A)\n",
    "    else:\n",
    "        return recursive(A, k+1)"
   ]
  },
  {
   "cell_type": "code",
   "execution_count": 6,
   "metadata": {},
   "outputs": [],
   "source": [
    "def adj_complete(n):\n",
    "    return np.ones((n,n)) - np.identity(n)"
   ]
  },
  {
   "cell_type": "code",
   "execution_count": 7,
   "metadata": {},
   "outputs": [],
   "source": [
    "def n_k(n, k):\n",
    "    A = adj_complete(n)\n",
    "    return nbtw(A, k)"
   ]
  },
  {
   "cell_type": "code",
   "execution_count": 8,
   "metadata": {},
   "outputs": [],
   "source": [
    "def test_hub():\n",
    "    At = np.array([\n",
    "    [0,1,1,1,1,1,1,1,1],\n",
    "    [1,0,0,0,0,0,0,0,0],\n",
    "    [1,0,0,0,0,0,0,0,0],\n",
    "    [1,0,0,0,0,0,0,0,0],\n",
    "    [1,0,0,0,0,0,0,0,0],\n",
    "    [1,0,0,0,0,0,0,0,0],\n",
    "    [1,0,0,0,0,0,0,0,0],\n",
    "    [1,0,0,0,0,0,0,0,0],\n",
    "    [1,0,0,0,0,0,0,0,0]])\n",
    "\n",
    "    for k in range(1, 10):\n",
    "        if k==1:\n",
    "            np.testing.assert_array_equal(nbtw(At, k), np.array([\n",
    "                [0,1,1,1,1,1,1,1,1],\n",
    "                [1,0,0,0,0,0,0,0,0],\n",
    "                [1,0,0,0,0,0,0,0,0],\n",
    "                [1,0,0,0,0,0,0,0,0],\n",
    "                [1,0,0,0,0,0,0,0,0],\n",
    "                [1,0,0,0,0,0,0,0,0],\n",
    "                [1,0,0,0,0,0,0,0,0],\n",
    "                [1,0,0,0,0,0,0,0,0],\n",
    "                [1,0,0,0,0,0,0,0,0]\n",
    "                ]))\n",
    "        elif k==2:\n",
    "            np.testing.assert_array_equal(nbtw(At, k), np.array([\n",
    "                [0,0,0,0,0,0,0,0,0],\n",
    "                [0,0,1,1,1,1,1,1,1],\n",
    "                [0,1,0,1,1,1,1,1,1],\n",
    "                [0,1,1,0,1,1,1,1,1],\n",
    "                [0,1,1,1,0,1,1,1,1],\n",
    "                [0,1,1,1,1,0,1,1,1],\n",
    "                [0,1,1,1,1,1,0,1,1],\n",
    "                [0,1,1,1,1,1,1,0,1],\n",
    "                [0,1,1,1,1,1,1,1,0]\n",
    "                ]))\n",
    "        else:\n",
    "            np.testing.assert_array_equal(nbtw(At, k), np.array([\n",
    "                [0,0,0,0,0,0,0,0,0],\n",
    "                [0,0,0,0,0,0,0,0,0],\n",
    "                [0,0,0,0,0,0,0,0,0],\n",
    "                [0,0,0,0,0,0,0,0,0],\n",
    "                [0,0,0,0,0,0,0,0,0],\n",
    "                [0,0,0,0,0,0,0,0,0],\n",
    "                [0,0,0,0,0,0,0,0,0],\n",
    "                [0,0,0,0,0,0,0,0,0],\n",
    "                [0,0,0,0,0,0,0,0,0]\n",
    "                ]))\n",
    "    print(\"Success. Hub tests passed\")"
   ]
  },
  {
   "cell_type": "code",
   "execution_count": 9,
   "metadata": {},
   "outputs": [],
   "source": [
    "def test_cycle():\n",
    "    At = np.array([\n",
    "    [0,1,1],\n",
    "    [1,0,1],\n",
    "    [1,1,0]])\n",
    "\n",
    "    for k in range(1, 100):\n",
    "        if k%3==1:\n",
    "            np.testing.assert_array_equal(nbtw(At, k), np.array([\n",
    "                [0,1,1],\n",
    "                [1,0,1],\n",
    "                [1,1,0]\n",
    "                ]))\n",
    "        elif k%3==2:\n",
    "            np.testing.assert_array_equal(nbtw(At, k), np.array([\n",
    "                [0,1,1],\n",
    "                [1,0,1],\n",
    "                [1,1,0]\n",
    "                ]))\n",
    "        else:\n",
    "            np.testing.assert_array_equal(nbtw(At, k), np.array([\n",
    "                [2,0,0],\n",
    "                [0,2,0],\n",
    "                [0,0,2]\n",
    "                ]))\n",
    "    print(\"Success. Cycle tests passed\")"
   ]
  },
  {
   "cell_type": "code",
   "execution_count": 10,
   "metadata": {},
   "outputs": [],
   "source": [
    "def test_complete_4n():\n",
    "    At = np.array([\n",
    "    [0,1,1,1],\n",
    "    [1,0,1,1],\n",
    "    [1,1,0,1],\n",
    "    [1,1,1,0]])\n",
    "\n",
    "    for k in range(1, 5):\n",
    "        if k%4==1:\n",
    "            np.testing.assert_array_equal(nbtw(At, k), np.array([\n",
    "                [0,1,1,1],\n",
    "                [1,0,1,1],\n",
    "                [1,1,0,1],\n",
    "                [1,1,1,0]\n",
    "                ]))\n",
    "        elif k%4==2:\n",
    "            np.testing.assert_array_equal(nbtw(At, k), np.array([\n",
    "                [0,2,2,2],\n",
    "                [2,0,2,2],\n",
    "                [2,2,0,2],\n",
    "                [2,2,2,0]\n",
    "                ]))\n",
    "        elif k%4==3:\n",
    "            np.testing.assert_array_equal(nbtw(At, k), np.array([\n",
    "                [6,2,2,2],\n",
    "                [2,6,2,2],\n",
    "                [2,2,6,2],\n",
    "                [2,2,2,6]\n",
    "                ]))\n",
    "        else:\n",
    "            np.testing.assert_array_equal(nbtw(At, k), np.array([\n",
    "                [6,6,6,6],\n",
    "                [6,6,6,6],\n",
    "                [6,6,6,6],\n",
    "                [6,6,6,6]\n",
    "                ]))\n",
    "    print(\"Success. K_4 tests passed\")"
   ]
  },
  {
   "cell_type": "code",
   "execution_count": 11,
   "metadata": {},
   "outputs": [],
   "source": [
    "def test_adjacency():\n",
    "    for n in range(2, 7):\n",
    "        if n==2:\n",
    "            np.testing.assert_array_equal(adj_complete(n), np.array([\n",
    "                [0,1],\n",
    "                [1,0]\n",
    "                ]))\n",
    "        elif n==3:\n",
    "            np.testing.assert_array_equal(adj_complete(n), np.array([\n",
    "                [0,1,1],\n",
    "                [1,0,1],\n",
    "                [1,1,0]\n",
    "                ]))\n",
    "        elif n==4:\n",
    "            np.testing.assert_array_equal(adj_complete(n), np.array([\n",
    "                [0,1,1,1],\n",
    "                [1,0,1,1],\n",
    "                [1,1,0,1],\n",
    "                [1,1,1,0]\n",
    "                ]))\n",
    "        elif n==5:\n",
    "            np.testing.assert_array_equal(adj_complete(n), np.array([\n",
    "                [0,1,1,1,1],\n",
    "                [1,0,1,1,1],\n",
    "                [1,1,0,1,1],\n",
    "                [1,1,1,0,1],\n",
    "                [1,1,1,1,0]\n",
    "                ]))\n",
    "        elif n==7:\n",
    "            np.testing.assert_array_equal(adj_complete(n), np.array([\n",
    "                [0,1,1,1,1,1],\n",
    "                [1,0,1,1,1,1],\n",
    "                [1,1,0,1,1,1],\n",
    "                [1,1,1,0,1,1],\n",
    "                [1,1,1,1,0,1],\n",
    "                [1,1,1,1,1,0]\n",
    "                ]))\n",
    "    print(\"Success. Adjacency tests passed\")"
   ]
  },
  {
   "cell_type": "code",
   "execution_count": 12,
   "metadata": {},
   "outputs": [
    {
     "name": "stdout",
     "output_type": "stream",
     "text": [
      "Success. Hub tests passed\n"
     ]
    }
   ],
   "source": [
    "test_hub()"
   ]
  },
  {
   "cell_type": "code",
   "execution_count": 13,
   "metadata": {},
   "outputs": [
    {
     "name": "stdout",
     "output_type": "stream",
     "text": [
      "Success. Cycle tests passed\n"
     ]
    }
   ],
   "source": [
    "test_cycle()"
   ]
  },
  {
   "cell_type": "code",
   "execution_count": 14,
   "metadata": {},
   "outputs": [
    {
     "name": "stdout",
     "output_type": "stream",
     "text": [
      "Success. K_4 tests passed\n"
     ]
    }
   ],
   "source": [
    "test_complete_4n()"
   ]
  },
  {
   "cell_type": "code",
   "execution_count": 15,
   "metadata": {},
   "outputs": [
    {
     "name": "stdout",
     "output_type": "stream",
     "text": [
      "Success. Adjacency tests passed\n"
     ]
    }
   ],
   "source": [
    "test_adjacency()"
   ]
  },
  {
   "cell_type": "code",
   "execution_count": 16,
   "metadata": {},
   "outputs": [
    {
     "name": "stdout",
     "output_type": "stream",
     "text": [
      "For K_6 number of nbtw walks of length 8 from 1->1:  13500.0\n",
      "For K_6 number of nbtw walks of length 8 from 1->2:  13684.0\n"
     ]
    }
   ],
   "source": [
    "# Given the complete graph with n nodes, use the program to compute the NBTWs of length k between nodes\n",
    "# 1, 1 and between nodes 1, 2 for the following values of (n, k):= (6, 8), (8, 7), (10, 6)\n",
    "p68 = n_k(6, 8)\n",
    "print(\"For K_6 number of nbtw walks of length 8 from 1->1: \" , p68[1,1])\n",
    "print(\"For K_6 number of nbtw walks of length 8 from 1->2: \" , p68[1,2])"
   ]
  },
  {
   "cell_type": "code",
   "execution_count": 17,
   "metadata": {},
   "outputs": [
    {
     "name": "stdout",
     "output_type": "stream",
     "text": [
      "For K_8 number of nbtw walks of length 7 from 1->1:  41370.0\n",
      "For K_8 number of nbtw walks of length 7 from 1->2:  40746.0\n"
     ]
    }
   ],
   "source": [
    "p87 = n_k(8, 7)\n",
    "print(\"For K_8 number of nbtw walks of length 7 from 1->1: \" , p87[1,1])\n",
    "print(\"For K_8 number of nbtw walks of length 7 from 1->2: \" , p87[1,2])"
   ]
  },
  {
   "cell_type": "code",
   "execution_count": 18,
   "metadata": {},
   "outputs": [
    {
     "name": "stdout",
     "output_type": "stream",
     "text": [
      "For K_10 number of nbtw walks of length 6 from 1->1:  29304.0\n",
      "For K_10 number of nbtw walks of length 6 from 1->2:  29512.0\n"
     ]
    }
   ],
   "source": [
    "p106 = n_k(10, 6)\n",
    "print(\"For K_10 number of nbtw walks of length 6 from 1->1: \" , p106[1,1])\n",
    "print(\"For K_10 number of nbtw walks of length 6 from 1->2: \" , p106[1,2])"
   ]
  }
 ],
 "metadata": {
  "kernelspec": {
   "display_name": "Python 3",
   "language": "python",
   "name": "python3"
  },
  "language_info": {
   "codemirror_mode": {
    "name": "ipython",
    "version": 3
   },
   "file_extension": ".py",
   "mimetype": "text/x-python",
   "name": "python",
   "nbconvert_exporter": "python",
   "pygments_lexer": "ipython3",
   "version": "3.8.6"
  }
 },
 "nbformat": 4,
 "nbformat_minor": 4
}
